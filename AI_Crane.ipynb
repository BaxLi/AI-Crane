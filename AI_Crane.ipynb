{
  "nbformat": 4,
  "nbformat_minor": 0,
  "metadata": {
    "colab": {
      "provenance": [],
      "authorship_tag": "ABX9TyM8AhMd4+0S7E3uenhrbzc2",
      "include_colab_link": true
    },
    "kernelspec": {
      "name": "python3",
      "display_name": "Python 3"
    },
    "language_info": {
      "name": "python"
    }
  },
  "cells": [
    {
      "cell_type": "markdown",
      "metadata": {
        "id": "view-in-github",
        "colab_type": "text"
      },
      "source": [
        "<a href=\"https://colab.research.google.com/github/BaxLi/AI-Crane/blob/main/AI_Crane.ipynb\" target=\"_parent\"><img src=\"https://colab.research.google.com/assets/colab-badge.svg\" alt=\"Open In Colab\"/></a>"
      ]
    },
    {
      "cell_type": "code",
      "execution_count": null,
      "metadata": {
        "id": "SVG3nqiS3DSp"
      },
      "outputs": [],
      "source": [
        "from google.colab import files\n",
        "files.upload() #Загружаем архив с датасетом YOLOdataset.zip в папку ноутбука\n",
        "!unzip /content/YOLOdataset -d /content/"
      ]
    },
    {
      "cell_type": "markdown",
      "source": [
        "## Загрузка REPO"
      ],
      "metadata": {
        "id": "gfzkN0eX3c4H"
      }
    },
    {
      "cell_type": "code",
      "source": [
        "# Скачиваем репозиторию и её зависимости\n",
        "!pip install ultralytics\n",
        "import ultralytics"
      ],
      "metadata": {
        "id": "JYFGrtUn3et5"
      },
      "execution_count": null,
      "outputs": []
    },
    {
      "cell_type": "markdown",
      "source": [
        "## Обучаем нейросеть"
      ],
      "metadata": {
        "id": "usS1m0UL3lTU"
      }
    },
    {
      "cell_type": "code",
      "source": [
        "from ultralytics import YOLO\n",
        "\n",
        "model = YOLO('yolov8n.pt')  # Создаем объект модели, указываем путь к весам в входном параметре\n",
        "model.train(data='/content/YOLOdataset/data_custom.yaml', epochs=10)  # Обучаем модель"
      ],
      "metadata": {
        "id": "lW0JKpgS3oYd"
      },
      "execution_count": null,
      "outputs": []
    },
    {
      "cell_type": "markdown",
      "source": [
        "## Предиктим "
      ],
      "metadata": {
        "id": "xhUQnYnL3zrC"
      }
    },
    {
      "cell_type": "code",
      "source": [
        "# Выполняем код детекции\n",
        "result = model('/content/YOLOdataset/val/images/0.jpg')  #Предиктим"
      ],
      "metadata": {
        "id": "un1-aLmY3yZi"
      },
      "execution_count": null,
      "outputs": []
    },
    {
      "cell_type": "markdown",
      "source": [
        "## Выводим разметку на изображении"
      ],
      "metadata": {
        "id": "V7NiwAeN4D6O"
      }
    },
    {
      "cell_type": "code",
      "source": [
        "import PIL\n",
        "\n",
        "# Функция, которая отображает предсказания YOLO-модели\n",
        "# На вход нужно подать путь к изображению, и аутпут нейронной сети\n",
        "# П.С. - если вы работаете не в колабе, можно вывести результат, указав аргумент show=True в model.predict()\n",
        "colors_list = [\"red\", \"green\", \"blue\"]\n",
        "def show_predict(image_path, result):\n",
        "    result = result[0].boxes.data\n",
        "    image = PIL.Image.open(image_path)\n",
        "    draw_image = PIL.ImageDraw.Draw(image)\n",
        "    for i in range(result.shape[0]):\n",
        "        class_index = int(result[i, -1].detach().item())\n",
        "        draw_image.rectangle(result[i, :4].detach().numpy(), outline=colors_list[class_index], width=5)\n",
        "    return image"
      ],
      "metadata": {
        "id": "nlSxveXM4G0b"
      },
      "execution_count": null,
      "outputs": []
    },
    {
      "cell_type": "markdown",
      "source": [
        "## Скачиваем веса нейросети"
      ],
      "metadata": {
        "id": "IMVSPs-J4M4x"
      }
    },
    {
      "cell_type": "code",
      "source": [
        "from google.colab import files\n",
        "files.download('/content/runs/detect/train/weights/best.pt') #Не забудьте указать правильный путь к нужному эксперименту"
      ],
      "metadata": {
        "id": "-PlLJ8GX4MIq"
      },
      "execution_count": null,
      "outputs": []
    }
  ]
}